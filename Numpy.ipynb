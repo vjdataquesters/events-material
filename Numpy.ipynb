{
 "cells": [
  {
   "cell_type": "markdown",
   "metadata": {
    "slideshow": {
     "slide_type": "slide"
    }
   },
   "source": [
    "\n",
    "# <font color=\" #009933\"><b>Python</b><br></font>"
   ]
  },
  {
   "cell_type": "markdown",
   "metadata": {},
   "source": [
    "Python is a popular, high-level programming language known for its simplicity and readability, making it a great choice for both <br>beginners and experienced developers. Here are some key points about Python"
   ]
  },
  {
   "cell_type": "markdown",
   "metadata": {},
   "source": [
    "##### <font color=\"#e65c00\"><b>1. Basic Features of Python</b><br></font>\n",
    "\n",
    "<b> Simple Syntax:</b>\n",
    "   Python's syntax is clean and easy to understand, which makes code more readable and reduces the learning curve.\n",
    "    \n",
    "<b>Interpreted Language:</b> \n",
    "    Python is an interpreted language, which means code is executed line-by-line, making debugging easier.\n",
    "\n",
    "<b>Dynamically Typed: </b>\n",
    "    Variables in Python do not require an explicit declaration to reserve memory space, which makes coding faster and simpler.\n",
    "    \n",
    "<b>Versatile: </b>\n",
    "    It supports multiple programming paradigms, including procedural, object-oriented, and functional programming."
   ]
  },
  {
   "cell_type": "markdown",
   "metadata": {},
   "source": [
    "\n",
    "\n",
    "\n",
    "\n",
    "\n",
    "."
   ]
  },
  {
   "cell_type": "markdown",
   "metadata": {},
   "source": [
    "##### <font color=\"#e65c00\"><b>2. Common Uses of Python</b><br></font>\n",
    "\n",
    "<b>Web Development: </b>\n",
    "    Frameworks like Django and Flask make Python a popular choice for creating web applications.\n",
    "\n",
    "<b>Data Science and Machine Learning: </b>\n",
    "    Python's powerful libraries like NumPy, pandas, TensorFlow, and scikit-learn are widely used in data analysis and machine learning.\n",
    "\n",
    "<b>Automation/Scripting: </b>\n",
    "    Python is often used to automate repetitive tasks, like file management or data extraction.\n",
    "    \n",
    "<b>Software Development: </b>\n",
    "    It can be used for building applications, developing software prototypes, and game development."
   ]
  },
  {
   "cell_type": "markdown",
   "metadata": {},
   "source": [
    "##### <font color=\"#e65c00\"><b>3. Core Concepts</b><br></font>\n",
    "\n",
    "<b>Variables and Data Types:</b> \n",
    "Python supports various data types, such as integers, floats, strings, lists, tuples, and dictionaries.\n",
    "  \n",
    "<b>Control Structures:</b> \n",
    " Includes if-else statements, loops (for and while), and control flow keywords like break and continue.\n",
    "\n",
    "<b>Functions: </b> \n",
    "Functions in Python are defined using the def keyword, and they help organize code and make it reusable.\n",
    "\n",
    "<b>Modules and Packages: </b> \n",
    "Code can be organized into modules and packages, promoting reusability and maintainability."
   ]
  },
  {
   "cell_type": "code",
   "execution_count": null,
   "metadata": {},
   "outputs": [],
   "source": [
    "# 1.Variables and Data Types\n",
    "integer_num = 10         # Integer\n",
    "float_num = 20.5         # Float\n",
    "string_text = \"Hello!\"   # String\n",
    "boolean_value = True     # Boolean\n",
    "\n",
    "print(integer_num, float_num, string_text, boolean_value)"
   ]
  },
  {
   "cell_type": "code",
   "execution_count": null,
   "metadata": {},
   "outputs": [],
   "source": [
    "# 2.Control statements\n",
    "\n",
    "# If-else statement\n",
    "age = 20\n",
    "if age >= 18:\n",
    "    print(\"You are an adult.\")\n",
    "else:\n",
    "    print(\"You are a minor.\")\n",
    "\n",
    "# For loop\n",
    "for i in range(5):\n",
    "    print(\"Iteration:\", i)\n",
    "\n",
    "# While loop\n",
    "count = 0\n",
    "while count < 3:\n",
    "    print(\"Count is:\", count)\n",
    "    count += 1\n"
   ]
  },
  {
   "cell_type": "code",
   "execution_count": null,
   "metadata": {},
   "outputs": [],
   "source": [
    "# 3.Function definition\n",
    "def greet(name):\n",
    "    return f\"Hello, {name}!\"\n",
    "\n",
    "# Calling the function\n",
    "message = greet(\"Alice\")\n",
    "print(message)\n"
   ]
  },
  {
   "cell_type": "code",
   "execution_count": null,
   "metadata": {},
   "outputs": [],
   "source": [
    "# 4.Modules and Packages\n",
    "# Importing a module\n",
    "import math\n",
    "\n",
    "# Using a function from the math module\n",
    "square_root = math.sqrt(36)\n",
    "print(\"Square root of 36 is:\", square_root)\n"
   ]
  },
  {
   "cell_type": "markdown",
   "metadata": {},
   "source": [
    "##### <font color=\"#e65c00\"><b>4. Object-Oriented Programming (OOP)</b><br></font>\n",
    "\n",
    "<b>Classes and Objects: </b>\n",
    "Python supports OOP principles like encapsulation, inheritance, and polymorphism.\n",
    "\n",
    "<b>Creating Classes: </b>\n",
    "Classes are defined using the class keyword and allow you to create objects with properties (attributes) and behaviors (methods)."
   ]
  },
  {
   "cell_type": "code",
   "execution_count": null,
   "metadata": {},
   "outputs": [],
   "source": [
    "# Define a class called Person\n",
    "class Person:\n",
    "    # Constructor method to initialize the attributes\n",
    "    def __init__(self, name, age):\n",
    "        self.name = name  # Attribute\n",
    "        self.age = age    # Attribute\n",
    "\n",
    "    # Method to display the person's details\n",
    "    def display_info(self):\n",
    "        print(f\"Name: {self.name}, Age: {self.age}\")\n",
    "\n",
    "# Create an object (instance) of the Person class\n",
    "person1 = Person(\"Alice\", 25)\n",
    "\n",
    "# Call the method to display person's details\n",
    "person1.display_info()"
   ]
  },
  {
   "cell_type": "code",
   "execution_count": null,
   "metadata": {},
   "outputs": [],
   "source": [
    "# Define a class called Student that inherits from Person\n",
    "# Inheritance allows one class to inherit attributes and methods from another class\n",
    "class Student(Person):\n",
    "    def __init__(self, name, age, student_id):\n",
    "        super().__init__(name, age)  # Call the constructor of the parent class\n",
    "        self.student_id = student_id  # New attribute for Student class                 \n",
    "\n",
    "    # Method to display student details\n",
    "    def display_student_info(self):\n",
    "        self.display_info()  # Call the method from the parent class\n",
    "        print(f\"Student ID: {self.student_id}\")\n",
    "\n",
    "# Create an object of the Student class\n",
    "student1 = Student(\"Bob\", 21, \"S12345\")\n",
    "\n",
    "# Call the method to display student details\n",
    "student1.display_student_info()\n",
    "\n",
    "#student1.display_info()\n"
   ]
  },
  {
   "cell_type": "code",
   "execution_count": null,
   "metadata": {},
   "outputs": [],
   "source": [
    "# Define a class with encapsulation\n",
    "# Encapsulation is about data hiding and controlling access.\n",
    "class BankAccount:\n",
    "    def __init__(self, owner, balance):\n",
    "        self.owner = owner  # Public attribute\n",
    "        self.__balance = balance  # Private attribute (prefix with double underscore)\n",
    "\n",
    "    # Method to deposit money\n",
    "    def deposit(self, amount):\n",
    "        if amount > 0:\n",
    "            self.__balance += amount\n",
    "            print(f\"Deposited: {amount}. New balance: {self.__balance}\")\n",
    "\n",
    "    # Method to withdraw money\n",
    "    def withdraw(self, amount):\n",
    "        if 0 < amount <= self.__balance:\n",
    "            self.__balance -= amount\n",
    "            print(f\"Withdrew: {amount}. New balance: {self.__balance}\")\n",
    "        else:\n",
    "            print(\"Insufficient funds or invalid amount!\")\n",
    "\n",
    "    # Method to check the balance\n",
    "    def get_balance(self):\n",
    "        return self.__balance\n",
    "\n",
    "# Create an object of the BankAccount class\n",
    "account = BankAccount(\"Charlie\", 1000)\n",
    "\n",
    "# Accessing methods to interact with the account\n",
    "#account.deposit(500)\n",
    "account.withdraw(300)\n",
    "print(\"Final balance:\", account.get_balance())\n"
   ]
  },
  {
   "cell_type": "markdown",
   "metadata": {},
   "source": [
    "\n",
    "##### <font color=\"#e65c00\"><b>5. Python Libraries</b><br></font>\n",
    "\n",
    "<b>NumPy:</b>\n",
    "    For numerical computing, handling large datasets, and performing operations on multi-dimensional arrays.\n",
    "\n",
    "<b>pandas: </b>\n",
    "    For data manipulation and analysis.\n",
    "\n",
    "<b>Matplotlib/Seaborn:</b> \n",
    "    For data visualization.\n",
    "    \n"
   ]
  },
  {
   "cell_type": "markdown",
   "metadata": {},
   "source": [
    "\n",
    "# <font color=\" #000099 ,\"><b>NumPy</b><br></font>"
   ]
  },
  {
   "cell_type": "markdown",
   "metadata": {},
   "source": [
    "\n",
    "<font color=\"blue\"> <b>Prerequisites:<br></b></font>\n",
    "\n",
    "\n",
    "-- Basic knowledge of Python programming.<br>\n",
    "-- Familiarity with Python's data structures (lists, tuples, dictionaries).<br>\n",
    "-- Some understanding of mathematical operations and arrays.<br>\n",
    "-- install numpy library pip install numpy\n"
   ]
  },
  {
   "cell_type": "markdown",
   "metadata": {},
   "source": [
    "What is Numpy..?<br>\n",
    "<br>\n",
    "NumPy (Numerical Python) is a powerful library in Python used for numerical and scientific computing.<br> NumPy is widely used in data science, machine learning, artificial intelligence, and scientific computing due to its efficiency and versatility."
   ]
  },
  {
   "cell_type": "markdown",
   "metadata": {},
   "source": [
    "### Key Features of NumPy\n",
    "--> N-Dimensional Arrays<br>\n",
    "--> Mathematical Operations<br>\n",
    "--> Broadcasting<br>\n",
    "--> Linear Algebra and Matrix Operations<br>\n",
    "--> Integration with Other Libraries<br>\n",
    "--> Memory Usage<br>\n",
    "--> Data Manipulation Capabilities<br>"
   ]
  },
  {
   "cell_type": "markdown",
   "metadata": {},
   "source": [
    "##### Why Use NumPy?\n",
    "\n",
    "\n",
    "\n",
    "."
   ]
  },
  {
   "cell_type": "markdown",
   "metadata": {},
   "source": [
    "-- Performance <br>\n",
    "-- Ease of Use <br>\n",
    "-- Scalability <br>"
   ]
  },
  {
   "cell_type": "markdown",
   "metadata": {},
   "source": [
    "##### Applications of NumPy\n",
    "\n",
    "\n",
    "."
   ]
  },
  {
   "cell_type": "markdown",
   "metadata": {},
   "source": [
    "-- Data Science and Machine Learning<br>\n",
    "-- Scientific Computing<br>\n",
    "-- Financial Analysis<br>"
   ]
  },
  {
   "cell_type": "markdown",
   "metadata": {},
   "source": [
    "##### <font color=\"blue\"><b>Understanding NumPy Arrays (ndarrays)</b><br></font>\n",
    "\n",
    "-----> NumPy arrays (ndarrays) are the main data structure in NumPy, designed to handle large datasets efficiently."
   ]
  },
  {
   "cell_type": "code",
   "execution_count": null,
   "metadata": {},
   "outputs": [],
   "source": [
    "# Example of a NumPy array vs. Python list operation:\n",
    "\n",
    "import numpy as np\n",
    "\n",
    "# Using a Python list\n",
    "python_list = [1, 2, 3, 4]\n",
    "result_list = [x * 2 for x in python_list]\n",
    "print(\"Python list result:\", result_list)  # Output: [2, 4, 6, 8]\n",
    "\n",
    "# Using a NumPy array\n",
    "numpy_array = np.array([1, 2, 3, 4])\n",
    "result_array = numpy_array * 2\n",
    "print(\"NumPy array result:\", result_array)  # Output: [2, 4, 6, 8]\n"
   ]
  },
  {
   "cell_type": "markdown",
   "metadata": {},
   "source": [
    "##### <font color=\"blue\"><b>Creating Arrays</b><br></font>\n",
    "-----> NumPy provides several functions to create arrays quickly and easily:"
   ]
  },
  {
   "cell_type": "code",
   "execution_count": null,
   "metadata": {},
   "outputs": [],
   "source": [
    "#array(): Converts a Python list to a NumPy array.\n",
    "\n",
    "arr = np.array([1, 2, 3, 4])\n",
    "print(arr)  "
   ]
  },
  {
   "cell_type": "code",
   "execution_count": null,
   "metadata": {},
   "outputs": [],
   "source": [
    "#zeros(): Creates an array filled with zeros.\n",
    "\n",
    "arr = np.zeros((2, 3))\n",
    "print(arr)"
   ]
  },
  {
   "cell_type": "code",
   "execution_count": null,
   "metadata": {},
   "outputs": [],
   "source": [
    "#ones(): Creates an array filled with ones.\n",
    "\n",
    "arr = np.ones((3, 2))\n",
    "print(arr)"
   ]
  },
  {
   "cell_type": "code",
   "execution_count": null,
   "metadata": {},
   "outputs": [],
   "source": [
    "#empty(): Creates an uninitialized array (contains random values).\n",
    "\n",
    "arr = np.empty((2, 2))\n",
    "print(arr)\n",
    "# Output: Random uninitialized values"
   ]
  },
  {
   "cell_type": "code",
   "execution_count": null,
   "metadata": {},
   "outputs": [],
   "source": [
    "#full(): Creates an array filled with a specified value.\n",
    "\n",
    "arr = np.full((2, 2), 7)\n",
    "print(arr)"
   ]
  },
  {
   "cell_type": "code",
   "execution_count": null,
   "metadata": {},
   "outputs": [],
   "source": [
    "#arange(): Creates an array with a range of values (similar to Python's range()).\n",
    "\n",
    "arr = np.arange(0, 10, 2)\n",
    "print(arr)"
   ]
  },
  {
   "cell_type": "code",
   "execution_count": null,
   "metadata": {},
   "outputs": [],
   "source": [
    "#linspace(): Creates an array of evenly spaced values between a start and end value.\n",
    "\n",
    "arr = np.linspace(0, 1, 5)\n",
    "print(arr)  "
   ]
  },
  {
   "cell_type": "code",
   "execution_count": null,
   "metadata": {},
   "outputs": [],
   "source": [
    "#eye(): Creates an identity matrix.\n",
    "\n",
    "arr = np.eye(3)\n",
    "print(arr)"
   ]
  },
  {
   "cell_type": "code",
   "execution_count": null,
   "metadata": {},
   "outputs": [],
   "source": [
    "#random(): Creates an array with random values.\n",
    "\n",
    "arr = np.random.rand(2, 2)\n",
    "print(arr)\n",
    "# Output: Random values between 0 and 1\n"
   ]
  },
  {
   "cell_type": "markdown",
   "metadata": {},
   "source": [
    "##### <font color=\"blue\"><b>Array Data Types</b><br></font>\n",
    "-----> You can specify the data type of an array using the dtype parameter."
   ]
  },
  {
   "cell_type": "code",
   "execution_count": null,
   "metadata": {},
   "outputs": [],
   "source": [
    "arr = np.array([1, 2, 3], dtype='float64')\n",
    "print(arr)       \n",
    "print(arr.dtype)  \n",
    "\n",
    "#Specifying the data type ensures that all elements in the array are of the same type"
   ]
  },
  {
   "cell_type": "markdown",
   "metadata": {},
   "source": [
    "##### <font color=\"blue\"><b>Array Attributes</b><br></font>\n",
    "-----> NumPy arrays have several useful attributes that provide information about the array."
   ]
  },
  {
   "cell_type": "code",
   "execution_count": null,
   "metadata": {},
   "outputs": [],
   "source": [
    "# shape: Returns the dimensions of the array (rows, columns).\n",
    "\n",
    "arr = np.array([[1, 2, 3], [4, 5, 6]])\n",
    "print(arr.shape)  # Output: (2, 3)"
   ]
  },
  {
   "cell_type": "code",
   "execution_count": null,
   "metadata": {},
   "outputs": [],
   "source": [
    "#dtype: Returns the data type of the elements in the array.\n",
    "\n",
    "print(arr.dtype)  # Output: int64 (or int32 depending on your system)"
   ]
  },
  {
   "cell_type": "code",
   "execution_count": null,
   "metadata": {},
   "outputs": [],
   "source": [
    "#ndim: Returns the number of dimensions of the array.\n",
    "\n",
    "print(arr.ndim)  "
   ]
  },
  {
   "cell_type": "code",
   "execution_count": null,
   "metadata": {},
   "outputs": [],
   "source": [
    "#size: Returns the total number of elements in the array.\n",
    "\n",
    "print(arr.size)  # Output: 6"
   ]
  },
  {
   "cell_type": "code",
   "execution_count": null,
   "metadata": {},
   "outputs": [],
   "source": [
    "#itemsize: Returns the size in bytes of each element in the array.\n",
    "\n",
    "print(arr.itemsize) "
   ]
  },
  {
   "cell_type": "markdown",
   "metadata": {},
   "source": [
    "<b>shape:</b> Useful for understanding the structure of multi-dimensional arrays.<br>\n",
    "\n",
    "<b>dtype:</b> Important for ensuring that calculations are performed with the correct data type.<br>\n",
    "\n",
    "<b>ndim:</b> Indicates whether the array is 1D, 2D, or multi-dimensional.<br>\n",
    "\n",
    "<b>size:</b> Helps determine how many elements are in the array."
   ]
  },
  {
   "cell_type": "markdown",
   "metadata": {},
   "source": [
    "##### <font color=\"blue\"><b>Array Operations</b><br></font>\n",
    "\n",
    "##### <font color=\"#006666\">Basic Operations:<br></font>\n",
    "\n",
    "-----> Arithmetic operations (addition, subtraction, multiplication, division, modulus).\n"
   ]
  },
  {
   "cell_type": "code",
   "execution_count": null,
   "metadata": {},
   "outputs": [],
   "source": [
    "import numpy as np\n",
    "\n",
    "# Creating two NumPy arrays\n",
    "array1 = np.array([1, 2, 3, 4])\n",
    "array2 = np.array([5, 6, 7, 8])\n",
    "\n",
    "# Addition\n",
    "addition = array1 + array2\n",
    "print(\"Addition:\", addition)  \n",
    "\n",
    "# Subtraction\n",
    "subtraction = array2 - array1\n",
    "print(\"Subtraction:\", subtraction)  \n",
    "\n",
    "# Multiplication\n",
    "multiplication = array1 * array2\n",
    "print(\"Multiplication:\", multiplication)  \n",
    "\n",
    "# Division\n",
    "division = array2 / array1\n",
    "print(\"Division:\", division)  \n",
    "\n",
    "# Modulus\n",
    "modulus = array2 % array1\n",
    "print(\"Modulus:\", modulus)  "
   ]
  },
  {
   "cell_type": "markdown",
   "metadata": {},
   "source": [
    "\n",
    "##### <font color=\"#006666\">Universal Functions (ufuncs):<br></font>\n",
    "\n",
    "-----> Universal functions, or ufuncs, are functions that perform element-wise operations on arrays. NumPy provides many built-in ufuncs that are optimized for speed and efficiency."
   ]
  },
  {
   "cell_type": "code",
   "execution_count": null,
   "metadata": {},
   "outputs": [],
   "source": [
    "#Example: Using Universal Functions\n",
    "\n",
    "# Creating two NumPy arrays\n",
    "array1 = np.array([1, 2, 3, 4])\n",
    "array2 = np.array([5, 6, 7, 8])\n",
    "\n",
    "# Using np.add() to add two arrays\n",
    "add_result = np.add(array1, array2)\n",
    "print(\"Using np.add():\", add_result) \n",
    "\n",
    "# Using np.subtract() to subtract two arrays\n",
    "subtract_result = np.subtract(array2, array1)\n",
    "print(\"Using np.subtract():\", subtract_result)  \n",
    "\n",
    "# Using np.multiply() to multiply two arrays\n",
    "multiply_result = np.multiply(array1, array2)\n",
    "print(\"Using np.multiply():\", multiply_result)  \n",
    "\n",
    "# Using np.divide() to divide two arrays\n",
    "divide_result = np.divide(array2, array1)\n",
    "print(\"Using np.divide():\", divide_result)  \n"
   ]
  },
  {
   "cell_type": "markdown",
   "metadata": {},
   "source": [
    "##### <font color=\"black\">Benefits of Using Universal Functions<br><br></font>\n",
    "\n",
    "\n",
    ".\n",
    "\n",
    "Speed: Ufuncs are implemented in C, making them faster than regular Python functions.<br>\n",
    "\n",
    "Convenience: They simplify code by allowing operations directly on arrays without writing loops.<br>\n",
    "\n",
    "Broadcasting: They work seamlessly with arrays of different shapes.<br>"
   ]
  },
  {
   "cell_type": "markdown",
   "metadata": {},
   "source": [
    "##### <font color=\"blue\"><b>Indexing and Slicing</b><br></font>"
   ]
  },
  {
   "cell_type": "markdown",
   "metadata": {},
   "source": [
    "\n",
    "##### <font color=\"#006666\">Array Indexing<br></font>\n",
    "----> Array indexing allows you to access individual elements within a NumPy array. You can use both positive and negative indices for this purpose."
   ]
  },
  {
   "cell_type": "code",
   "execution_count": null,
   "metadata": {},
   "outputs": [],
   "source": [
    "#Example: Accessing Elements with Positive and Negative Indices\n",
    "import numpy as np\n",
    "\n",
    "# Creating a 1D array\n",
    "arr = np.array([10, 20, 30, 40, 50])\n",
    "\n",
    "# Accessing elements using positive indices\n",
    "print(\"Element at index 0:\", arr[0]) \n",
    "print(\"Element at index 3:\", arr[3]) \n",
    "\n",
    "# Accessing elements using negative indices\n",
    "print(\"Element at index -1:\", arr[-1])  \n",
    "print(\"Element at index -3:\", arr[-3])  \n"
   ]
  },
  {
   "cell_type": "markdown",
   "metadata": {},
   "source": [
    "\n",
    "##### <font color=\"#006666\">Slicing Arrays<br></font>\n",
    "\n",
    "----> Slicing is used to extract a part of the array. The syntax for slicing is arr[start:end:step]."
   ]
  },
  {
   "cell_type": "code",
   "execution_count": null,
   "metadata": {},
   "outputs": [],
   "source": [
    "#Example: Slicing Arrays\n",
    "\n",
    "# Creating a 1D array\n",
    "arr = np.array([10, 20, 30, 40, 50, 60, 70])\n",
    "\n",
    "# Slicing from index 1 to 5 (excluding 5)\n",
    "slice1 = arr[1:5]\n",
    "print(\"Slice from index 1 to 5:\", slice1) \n",
    "\n",
    "# Slicing with a step of 2\n",
    "slice2 = arr[0:7:2]\n",
    "print(\"Slice with a step of 2:\", slice2) \n",
    "\n",
    "# Slicing with negative indices\n",
    "slice3 = arr[-5:-1]\n",
    "print(\"Slice using negative indices:\", slice3)  \n"
   ]
  },
  {
   "cell_type": "markdown",
   "metadata": {},
   "source": [
    "\n",
    "##### <font color=\"#006666\">Fancy Indexing and Boolean Masking<br></font>\n",
    "\n",
    "----> Fancy indexing allows you to access elements of an array using another array or list of indices, while Boolean masking allows you to filter the array using conditions."
   ]
  },
  {
   "cell_type": "code",
   "execution_count": null,
   "metadata": {},
   "outputs": [],
   "source": [
    "#Example: Fancy Indexing\n",
    "\n",
    "# Using a list of indices to access specific elements\n",
    "arr = np.array([10, 20, 30, 40, 50])\n",
    "indices = [0, 2, 4]\n",
    "fancy_indexing = arr[indices]\n",
    "print(\"Fancy indexing result:\", fancy_indexing)  # Output: [10 30 50]\n"
   ]
  },
  {
   "cell_type": "code",
   "execution_count": null,
   "metadata": {},
   "outputs": [],
   "source": [
    "#Example: Boolean Masking\n",
    "\n",
    "# Using a condition to filter elements\n",
    "arr = np.array([10, 20, 30, 40, 50])\n",
    "mask = arr > 30\n",
    "print(\"Boolean mask:\", mask)  # Output: [False False False  True  True]\n",
    "\n",
    "# Applying the mask to get the filtered array\n",
    "filtered_array = arr[mask]\n",
    "print(\"Filtered array:\", filtered_array)  # Output: [40 50]\n"
   ]
  },
  {
   "cell_type": "markdown",
   "metadata": {},
   "source": [
    "\n",
    "##### <font color=\"#006666\">Modifying Arrays<br></font>\n",
    "----> You can modify specific elements or entire sections of a NumPy array using indexing or slicing."
   ]
  },
  {
   "cell_type": "code",
   "execution_count": null,
   "metadata": {},
   "outputs": [],
   "source": [
    "#Example: Modifying Specific Elements\n",
    "\n",
    "# Creating a 1D array\n",
    "arr = np.array([10, 20, 30, 40, 50])\n",
    "\n",
    "# Modifying a single element\n",
    "arr[2] = 100\n",
    "print(\"Modified array:\", arr)  # Output: [ 10  20 100  40  50]\n"
   ]
  },
  {
   "cell_type": "code",
   "execution_count": null,
   "metadata": {},
   "outputs": [],
   "source": [
    "#Example: Modifying Sections of an Array\n",
    "\n",
    "# Creating a 1D array\n",
    "arr = np.array([10, 20, 30, 40, 50])\n",
    "\n",
    "# Modifying a section of the array using slicing\n",
    "arr[1:4] = [200, 300, 400]\n",
    "print(\"Array after modifying a section:\", arr)  # Output: [ 10 200 300 400  50]\n",
    "\n"
   ]
  },
  {
   "cell_type": "markdown",
   "metadata": {},
   "source": [
    "##### <font color=\"blue\"><b>Reshaping and Resizing Arrays</b><br></font>"
   ]
  },
  {
   "cell_type": "markdown",
   "metadata": {},
   "source": [
    "In NumPy, you can easily change the shape and structure of arrays using functions like reshape() and flatten().<br> You can also combine (concatenate) or break (split) arrays using functions like concatenate(), vstack(), hstack(), split(), and hsplit()."
   ]
  },
  {
   "cell_type": "code",
   "execution_count": null,
   "metadata": {},
   "outputs": [],
   "source": [
    "#Example: Using reshape() \n",
    "\n",
    "import numpy as np\n",
    "\n",
    "# Creating a 1D array with 9 elements\n",
    "arr = np.array([1, 2, 3, 4, 5, 6, 7, 8, 9])\n",
    "\n",
    "# Reshaping the array to 3x3\n",
    "reshaped_arr = np.reshape(arr, (3, 3))\n",
    "print(\"Reshaped array (3x3):\")\n",
    "print(reshaped_arr)"
   ]
  },
  {
   "cell_type": "code",
   "execution_count": null,
   "metadata": {},
   "outputs": [],
   "source": [
    "#Example: Using flatten()\n",
    "\n",
    "# Flattening the 2D array back to 1D\n",
    "flattened_arr = reshaped_arr.flatten()\n",
    "print(\"Flattened array:\")\n",
    "print(flattened_arr)\n"
   ]
  },
  {
   "cell_type": "markdown",
   "metadata": {},
   "source": [
    "\n",
    "##### <font color=\"#006666\">Concatenate<br></font>"
   ]
  },
  {
   "cell_type": "code",
   "execution_count": null,
   "metadata": {},
   "outputs": [],
   "source": [
    "#Example: Using concatenate()\n",
    "\n",
    "arr1 = np.array([[1, 2], [3, 4]])\n",
    "arr2 = np.array([[5, 6], [7, 8]])\n",
    "\n",
    "# Concatenating along axis 0 (vertically)\n",
    "concat_vertical = np.concatenate((arr1, arr2), axis=0)\n",
    "print(\"Vertical concatenation:\")\n",
    "print(concat_vertical)\n",
    "\n",
    "\n",
    "# Concatenating along axis 1 (horizontally)\n",
    "concat_horizontal = np.concatenate((arr1, arr2), axis=1)\n",
    "print(\"Horizontal concatenation:\")\n",
    "print(concat_horizontal)\n",
    "\n",
    "# NOte: concatenate() can merge arrays along any axis (axis 0 for vertical, axis 1 for horizontal)."
   ]
  },
  {
   "cell_type": "code",
   "execution_count": null,
   "metadata": {},
   "outputs": [],
   "source": [
    "#Example: Using vstack() and hstack()\n",
    "\n",
    "arr1 = np.array([[1, 2], [3, 4]])\n",
    "arr2 = np.array([[5, 6], [7, 8]])\n",
    "\n",
    "# Vertical stack (row-wise)\n",
    "vstacked = np.vstack((arr1, arr2))\n",
    "print(\"Vertical stack (vstack):\")\n",
    "print(vstacked)\n",
    "\n",
    "# Horizontal stack (column-wise)\n",
    "hstacked = np.hstack((arr1, arr2))\n",
    "print(\"Horizontal stack (hstack):\")\n",
    "print(hstacked)\n",
    "\n"
   ]
  },
  {
   "cell_type": "markdown",
   "metadata": {},
   "source": [
    "\n",
    "##### <font color=\"#006666\">Splitting Arrays<br></font>"
   ]
  },
  {
   "cell_type": "code",
   "execution_count": null,
   "metadata": {},
   "outputs": [],
   "source": [
    "#Example: Using split()\n",
    "\n",
    "# Creating an array with 9 elements\n",
    "arr = np.arange(9)\n",
    "\n",
    "# Splitting into 3 equal parts\n",
    "split_arr = np.split(arr, 3)\n",
    "print(\"Split into 3 parts:\")\n",
    "print(split_arr)\n"
   ]
  },
  {
   "cell_type": "markdown",
   "metadata": {},
   "source": [
    "<font color=\"blue\"> <b>Exercise<br></b></font>\n",
    "\n",
    "<font color=\"#9900FF\">Splitting Odd Numbers into a Separate Array</font>"
   ]
  },
  {
   "cell_type": "markdown",
   "metadata": {},
   "source": [
    "##### <font color=\"blue\"><b>Statistical and Mathematical Functions<br></b></font>\n",
    "----> NumPy provides several functions for basic statistical operations on arrays, including mean, median, sum, minimum, maximum, standard deviation, and variance."
   ]
  },
  {
   "cell_type": "markdown",
   "metadata": {},
   "source": [
    "<b>mean():</b> Returns the average of the array.<br>\n",
    "\n",
    "<b>median():</b> Returns the median value.<br>\n",
    "\n",
    "<b>sum():</b> Returns the sum of all elements in the array.<br>\n",
    "\n",
    "<b>min() and max():</b> Return the minimum and maximum values, respectively.<br>\n",
    "\n",
    "<b>std():</b> Returns the standard deviation.<br>\n",
    "\n",
    "<b>var():</b> Returns the variance.<br>"
   ]
  },
  {
   "cell_type": "code",
   "execution_count": null,
   "metadata": {},
   "outputs": [],
   "source": [
    "import numpy as np\n",
    "\n",
    "# Creating a 1D array\n",
    "arr = np.array([1, 2, 3, 4, 5, 6, 7, 8, 9])\n",
    "\n",
    "# Mean\n",
    "mean_value = np.mean(arr)\n",
    "print(\"Mean:\", mean_value)  # Output: 5.0\n",
    "\n",
    "# Median\n",
    "median_value = np.median(arr)\n",
    "print(\"Median:\", median_value)  # Output: 5.0\n",
    "\n",
    "# Sum\n",
    "sum_value = np.sum(arr)\n",
    "print(\"Sum:\", sum_value)  # Output: 45\n",
    "\n",
    "# Minimum value\n",
    "min_value = np.min(arr)\n",
    "print(\"Min:\", min_value)  # Output: 1\n",
    "\n",
    "# Maximum value\n",
    "max_value = np.max(arr)\n",
    "print(\"Max:\", max_value)  # Output: 9\n",
    "\n",
    "# Standard deviation\n",
    "std_value = np.std(arr)\n",
    "print(\"Standard Deviation:\", std_value)  # Output: 2.581988897471611\n",
    "\n",
    "# Variance\n",
    "var_value = np.var(arr)\n",
    "print(\"Variance:\", var_value)  # Output: 6.666666666666667\n"
   ]
  },
  {
   "cell_type": "markdown",
   "metadata": {},
   "source": [
    "\n",
    "##### <font color=\"#006666\">Aggregation Functions<br></font>\n",
    "\n",
    "----> Aggregation functions in NumPy allow you to compute cumulative sums and products across an array."
   ]
  },
  {
   "cell_type": "code",
   "execution_count": null,
   "metadata": {},
   "outputs": [],
   "source": [
    "#Example: Cumulative Sum and Cumulative Product\n",
    "\n",
    "# Cumulative sum (cumsum)\n",
    "cumsum_value = np.cumsum(arr)\n",
    "print(\"Cumulative Sum:\", cumsum_value)  \n",
    "# Output: [ 1  3  6 10 15 21 28 36 45]\n",
    "\n",
    "# Cumulative product (cumprod)\n",
    "cumprod_value = np.cumprod(arr)\n",
    "print(\"Cumulative Product:\", cumprod_value)  \n",
    "# Output: [     1      2      6     24    120    720   5040  40320 362880]"
   ]
  },
  {
   "cell_type": "markdown",
   "metadata": {},
   "source": [
    "\n",
    "##### <font color=\"#006666\">Random Sampling<br></font>\n",
    "\n",
    "----> NumPy provides powerful random number generation functions through the np.random module. You can generate random numbers and control reproducibility using a seed."
   ]
  },
  {
   "cell_type": "markdown",
   "metadata": {},
   "source": [
    "<b>rand():</b> Generates random numbers between 0 and 1 from a uniform distribution.<br>\n",
    "\n",
    "<b>randn():</b> Generates random numbers from a normal (Gaussian) distribution.<br>\n",
    "\n",
    "<b>seed():</b> Sets a random seed to ensure reproducibility of random numbers.<br>"
   ]
  },
  {
   "cell_type": "code",
   "execution_count": null,
   "metadata": {},
   "outputs": [],
   "source": [
    "#Example: Random Number Generation\n",
    "\n",
    "# Generating a random array of floats between 0 and 1 (uniform distribution)\n",
    "random_values = np.random.rand(3)\n",
    "print(\"Random numbers (uniform distribution):\", random_values)\n",
    "# Output: Random numbers like [0.643267 0.675564 0.22345]\n",
    "\n",
    "# Generating random values from a normal distribution\n",
    "random_normal = np.random.randn(3)\n",
    "print(\"Random numbers (normal distribution):\", random_normal)\n",
    "# Output: Random numbers like [ 0.497  -1.392  0.078]\n",
    "\n",
    "# Setting a random seed for reproducibility\n",
    "np.random.seed(42)\n",
    "random_seeded = np.random.rand(3)\n",
    "print(\"Seeded random numbers:\", random_seeded)\n",
    "# Output: [0.37454012 0.95071431 0.73199394]\n"
   ]
  },
  {
   "cell_type": "markdown",
   "metadata": {},
   "source": [
    "<font color=\"blue\"> <b>Exercise<br></b></font>\n",
    "\n",
    "<font color=\"#9900FF\">Select a Random Name from a List</font>"
   ]
  },
  {
   "cell_type": "markdown",
   "metadata": {},
   "source": [
    "\n",
    "##### <font color=\"#006666\">Working with Matrices<br></font>\n",
    "\n",
    "----> In NumPy, matrices are represented as 2D arrays. Matrix operations like multiplication, transpose, determinant, inverse, and solving linear equations can be performed using NumPy functions."
   ]
  },
  {
   "cell_type": "code",
   "execution_count": null,
   "metadata": {},
   "outputs": [],
   "source": [
    "#a) Creating Matrices \n",
    "\n",
    "import numpy as np\n",
    "\n",
    "# Creating a 2x2 matrix\n",
    "matrix = np.array([[1, 2], [3, 4]])\n",
    "print(\"Matrix:\")\n",
    "print(matrix)\n",
    "# Output:\n",
    "# [[1 2]\n",
    "#  [3 4]]"
   ]
  },
  {
   "cell_type": "code",
   "execution_count": null,
   "metadata": {},
   "outputs": [],
   "source": [
    "#b) Dot Product and Matrix Multiplication\n",
    "\n",
    "# Creating two matrices\n",
    "matrix1 = np.array([[1, 2], [3, 4]])\n",
    "matrix2 = np.array([[5, 6], [7, 8]])\n",
    "\n",
    "# Dot product (same as element-wise multiplication for 1D arrays)\n",
    "dot_product = np.dot(matrix1, matrix2)\n",
    "print(\"Dot product (matrix multiplication):\")\n",
    "print(dot_product)\n",
    "# Output:\n",
    "# [[19 22]\n",
    "#  [43 50]]\n",
    "\n",
    "# Matrix multiplication using @ operator\n",
    "matrix_mult = matrix1 @ matrix2\n",
    "print(\"Matrix multiplication (@ operator):\")\n",
    "print(matrix_mult)\n",
    "# Output:\n",
    "# [[19 22]\n",
    "#  [43 50]]\n"
   ]
  },
  {
   "cell_type": "code",
   "execution_count": null,
   "metadata": {},
   "outputs": [],
   "source": [
    "#c) Transpose of a Matrix<br>\n",
    "\n",
    "# Transposing the matrix\n",
    "transpose_matrix = matrix.T\n",
    "print(\"Transpose of the matrix:\")\n",
    "print(transpose_matrix)\n",
    "# Output:\n",
    "# [[1 3]\n",
    "#  [2 4]]"
   ]
  },
  {
   "cell_type": "markdown",
   "metadata": {},
   "source": [
    "<font color=\"blue\"> <b>Exercise<br></b></font>\n",
    "\n",
    "<font color=\"#9900FF\">Transpose and Sum of Diagonal Elements for a 3×3 Matrix..?</font>"
   ]
  },
  {
   "cell_type": "code",
   "execution_count": null,
   "metadata": {},
   "outputs": [],
   "source": [
    "#d) Determinant of the matrix\n",
    "determinant = np.linalg.det(matrix)\n",
    "print(\"Determinant of the matrix:\", determinant)\n",
    "# Output: -2.0000000000000004\n",
    "\n",
    "#Note: det(A)=ad−bc\n"
   ]
  },
  {
   "cell_type": "code",
   "execution_count": null,
   "metadata": {},
   "outputs": [],
   "source": [
    "#e) Inverse of a Matrix\n",
    "#Note: The inverse of a matrix exists if and only if the matrix is square and its determinant is non-zero.\n",
    "\n",
    "# Inverse of the matrix\n",
    "inverse_matrix = np.linalg.inv(matrix)\n",
    "print(\"Inverse of the matrix:\")\n",
    "print(inverse_matrix)\n",
    "# Output:\n",
    "# [[-2.   1. ]\n",
    "#  [ 1.5 -0.5]]\n"
   ]
  },
  {
   "cell_type": "markdown",
   "metadata": {},
   "source": [
    "A−1 =1/det(A) ×[d −b,-c a]"
   ]
  },
  {
   "cell_type": "markdown",
   "metadata": {},
   "source": [
    "Solving Linear Equations"
   ]
  },
  {
   "cell_type": "markdown",
   "metadata": {},
   "source": [
    "2x+y=5<br>\n",
    "x+2y=6"
   ]
  },
  {
   "cell_type": "code",
   "execution_count": null,
   "metadata": {},
   "outputs": [],
   "source": [
    "import numpy as np\n",
    "\n",
    "# Coefficient matrix A\n",
    "A = np.array([[2, 1],\n",
    "              [1, 2]])\n",
    "\n",
    "# Result matrix B\n",
    "B = np.array([5, 6])\n",
    "\n",
    "# Solving for x\n",
    "solution = np.linalg.solve(A, B)\n",
    "print(\"Solution (x and y values):\", solution)\n"
   ]
  },
  {
   "cell_type": "markdown",
   "metadata": {},
   "source": [
    "<font color=\"blue\"> <b>Exercise<br></b></font>\n",
    "\n",
    "<font color=\"#9900FF\">Matrix Multiplication Without Built-in Functions..?</font>"
   ]
  },
  {
   "cell_type": "markdown",
   "metadata": {},
   "source": [
    "\n",
    "##### <font color=\"#006666\">Sorting Arrays<br></font>"
   ]
  },
  {
   "cell_type": "code",
   "execution_count": null,
   "metadata": {},
   "outputs": [],
   "source": [
    "#Example: Sorting Arrays\n",
    "\n",
    "import numpy as np\n",
    "\n",
    "# Creating an array\n",
    "arr = np.array([3, 1, 2, 5, 4])\n",
    "\n",
    "# Sorting the array in ascending order\n",
    "sorted_arr = np.sort(arr)\n",
    "print(\"Sorted array:\", sorted_arr)\n",
    "# Output: Sorted array: [1 2 3 4 5]\n"
   ]
  },
  {
   "cell_type": "markdown",
   "metadata": {
    "vscode": {
     "languageId": "powershell"
    }
   },
   "source": [
    "<font color=\"blue\"> <b>Exercise<br></b></font>\n",
    "\n",
    "<font color=\"#9900FF\"> Sorting Arrays in Descending Order</font>"
   ]
  },
  {
   "cell_type": "markdown",
   "metadata": {},
   "source": [
    "\n",
    "##### <font color=\"#006666\">Sorting 2D Arrays<br></font>"
   ]
  },
  {
   "cell_type": "code",
   "execution_count": null,
   "metadata": {},
   "outputs": [],
   "source": [
    "# Creating a 2D array\n",
    "arr_2d = np.array([[9, 1, 2], [6, 4, 5]])\n",
    "\n",
    "# Sorting along the rows (axis=1)\n",
    "sorted_rows = np.sort(arr_2d, axis=1)\n",
    "print(\"Sorted 2D array along rows:\")\n",
    "print(sorted_rows)\n",
    "# Output:\n",
    "# [[1 2 3]\n",
    "#  [4 5 6]]\n",
    "\n",
    "# Sorting along the columns (axis=0)\n",
    "sorted_cols = np.sort(arr_2d, axis=0)\n",
    "print(\"Sorted 2D array along columns:\")\n",
    "print(sorted_cols)\n",
    "# Output:\n",
    "# [[3 1 2]\n",
    "#  [6 4 5]]\n"
   ]
  },
  {
   "cell_type": "markdown",
   "metadata": {},
   "source": [
    "\n",
    "##### <font color=\"#006666\">Searching Arrays<br></font>"
   ]
  },
  {
   "cell_type": "markdown",
   "metadata": {},
   "source": [
    "Using where()<br>\n",
    "\n",
    "----> The <b>where()</b> function returns the indices of elements that meet a specified condition."
   ]
  },
  {
   "cell_type": "code",
   "execution_count": null,
   "metadata": {},
   "outputs": [],
   "source": [
    "# Creating an array\n",
    "arr = np.array([10, 15, 20, 25, 30])\n",
    "\n",
    "# Finding indices of elements greater than 20\n",
    "indices = np.where(arr > 20)\n",
    "print(\"Indices where elements are greater than 20:\", indices)\n",
    "# Output: Indices where elements are greater than 20: (array([3, 4]),)\n"
   ]
  },
  {
   "cell_type": "markdown",
   "metadata": {},
   "source": [
    "Using argmax() and argmin()<br>\n",
    "\n",
    "<b>argmax():</b> Returns the index of the maximum element in the array.<br>\n",
    "\n",
    "<b>argmin():</b> Returns the index of the minimum element in the array."
   ]
  },
  {
   "cell_type": "code",
   "execution_count": null,
   "metadata": {},
   "outputs": [],
   "source": [
    "# Using argmax() to find the index of the maximum element\n",
    "max_index = np.argmax(arr)\n",
    "print(\"Index of the maximum element:\", max_index)\n",
    "# Output: Index of the maximum element: 4\n",
    "\n",
    "# Using argmin() to find the index of the minimum element\n",
    "min_index = np.argmin(arr)\n",
    "print(\"Index of the minimum element:\", min_index)\n",
    "# Output: Index of the minimum element: 0"
   ]
  },
  {
   "cell_type": "markdown",
   "metadata": {},
   "source": [
    "<font color=\"blue\"> <b>Exercise<br></b></font>\n",
    "\n",
    "<font color=\"#9900FF\">Finding Maximum Element in an array without using Built-in Functions..?<br>\n",
    "Finding Minimum Element in an array without using Built-in Functions..?</font>"
   ]
  },
  {
   "cell_type": "markdown",
   "metadata": {},
   "source": []
  }
 ],
 "metadata": {
  "kernelspec": {
   "display_name": "Python 3",
   "language": "python",
   "name": "python3"
  },
  "language_info": {
   "codemirror_mode": {
    "name": "ipython",
    "version": 3
   },
   "file_extension": ".py",
   "mimetype": "text/x-python",
   "name": "python",
   "nbconvert_exporter": "python",
   "pygments_lexer": "ipython3",
   "version": "3.12.7"
  }
 },
 "nbformat": 4,
 "nbformat_minor": 2
}
